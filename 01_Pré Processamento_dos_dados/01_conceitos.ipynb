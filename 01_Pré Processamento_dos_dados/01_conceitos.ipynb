{
 "cells": [
  {
   "cell_type": "markdown",
   "id": "495e1a1a",
   "metadata": {},
   "source": [
    "### Terminologia"
   ]
  },
  {
   "cell_type": "raw",
   "id": "10860cab",
   "metadata": {},
   "source": [
    "Inteligência Artificial\n",
    "    - Área da Ciência da Computação responsável pelo desenvolvimento de sistemas que simulem a capacidade humana\n",
    "    de resolver problemas (Termo mais geral)\n",
    "\n",
    "Inteligência Computacional\n",
    "    - Redes neurais, computação evolucionário, lógica nebulosa\n",
    "\n",
    "Machine Learning\n",
    "    - Métodos matemáticos para treinar algoritmos\n",
    "\n",
    "Data Mining\n",
    "    - Extrair conhecimento de bases de dados, usando métodos de aprendizagem de máquina\n",
    "\n",
    "Redes Neurais\n",
    "    - É um tipo de aprendizagem de máquina, um algoritmo para ensinar o computador\n",
    "\n",
    "Deep Learning\n",
    "    - Rede neural com muitas camadas\n",
    "    - Muito mais dados e processadores potentes\n",
    "\n",
    "Big Data\n",
    "    - Imenso volume de dados\n",
    "\n",
    "Ciência de Dados\n",
    "    - Exploração e análise de dados\n",
    "    - Ciência da Computação + Estatísticas\n",
    "    - Machine Learning"
   ]
  },
  {
   "cell_type": "markdown",
   "id": "cce108c9",
   "metadata": {},
   "source": [
    "### Métodos Preditivos"
   ]
  },
  {
   "cell_type": "raw",
   "id": "6dceadff",
   "metadata": {},
   "source": [
    "# Métodos Preditivos - Supervisionados\n",
    "\n",
    "(Classificação e Regressão)\n",
    "\n",
    "\n",
    "Classificação: (Rótulos, separação de dados e direcionamento)\n",
    "\n",
    "    - Marketing direto\n",
    "    - Insatisfação de clientes\n",
    "    - Risco de Crédito\n",
    "    - Filtros de Spam\n",
    "    - Separação de notícias\n",
    "    - Reconhecimento de voz\n",
    "    - Reconhecimento de face\n",
    "    - Previsão de doença\n",
    "\n",
    "\n",
    "Regressão: (Números, previsão diante fatos passados)\n",
    "\n",
    "    (com isso -> saberemos isso)\n",
    "    - Gastos propaganda -> Valor de venda\n",
    "    - Temperatura, umidade e pressão do ar -> velocidade do vento\n",
    "    - Fatores externos -> valor do dólar\n",
    "    - Resultados do exame -> Probabilidade de um paciente sobreviver\n",
    "    - Risco de investimento\n",
    "    - Gastos no cartão de crédito, histórico -> limite\n",
    "    - Valores anteriores -> valores de produtos"
   ]
  },
  {
   "cell_type": "markdown",
   "id": "fe0ca1c2",
   "metadata": {},
   "source": [
    "### Métodos Descritivos"
   ]
  },
  {
   "cell_type": "raw",
   "id": "3b628620",
   "metadata": {},
   "source": [
    "# Métodos Descritivos - Não Supervisionados\n",
    "\n",
    "\n",
    "Associação:\n",
    "\n",
    "    - Prateleiras de mercado\n",
    "    - Promoções com itens que são vendidos em conjunto\n",
    "    - Planejar catálogos das lojas e folhetos de promoções\n",
    "    - Controle de evasão em universidades (achar a semelhança entre alunos que desistem do curso)\n",
    "\n",
    "\n",
    "Agrupamento:\n",
    "\n",
    "    - Segmentação de mercado\n",
    "    - Encontrar grupos de clientes que irão comprar determinado produto (mala direta)\n",
    "    - Agrupamento de documentos/notícias\n",
    "    - Agrupamento de produtos similares\n",
    "    - Perfis de clientes (netflix)  (Observar determinado cliente, e com isso determinar oque ele irá receber)\n",
    "    - Análise de resdes sociais\n",
    "\n",
    "\n",
    "Detecção de desvios:\n",
    "\n",
    "    -  Fraude em cartão de crédito\n",
    "    - Intrusão de Redes\n",
    "    - Uso de energia elétrica, água ou telefone (por exemplo: aumentou muito, provável ter algum problema)\n",
    "    - Desempenho de atletas (comumente determinado atleta tem um padrão de 6s, mas uma corrida fez em 3s, há um desvio)\n",
    "    - Monitoramento em máquinas de bigdata\n",
    "\n",
    "\n",
    "Descobrimento de Padrões Sequenciais:\n",
    "\n",
    "    - Prevenção de doenças (Sabe-se que sintomas a, b, c vai causar doença x)\n",
    "    - Navegação em sites\n",
    "\n",
    "\n",
    "Sumarização:\n",
    "\n",
    "    - Vai notar padrões, traçando dados comuns e agrupando determinado grupo\n",
    "    - Por exemplo: Pegar os clientes de uma empresa, a sumarização vai traçar os dados comuns desses clientes e então\n",
    "    criar um perfil da empresa de clientes"
   ]
  },
  {
   "cell_type": "markdown",
   "id": "a6cc085c",
   "metadata": {},
   "source": [
    "### Tipos de aprendizagem de máquina"
   ]
  },
  {
   "cell_type": "raw",
   "id": "24aa5fc9",
   "metadata": {},
   "source": [
    "Aprendizagem supervisionada\n",
    "\n",
    "    - Fase 1:\n",
    "        - Queremos fazer com que a máquina separe imagens que há o homer e imagens que há o bart, primeiro fazemos a\n",
    "        extração de características, o supervisor (nós) colocamos no algoritmo de aprendizagem, em um banco de dados,\n",
    "        diversas imagens exemplificando quem é o homer e quem é o bart, e com isso, criamos um 'modelo aprendido'\n",
    "\n",
    "    - Fase 2:\n",
    "        - A máquina ja aprendeu como detectar as diferenças e passa pelo processo sozinha\n",
    "\n",
    "\n",
    "Aprendizagem não supervisionada\n",
    "\n",
    "    - É onde ocorre os métodos descritivos, não há necessidade de dar exemplos para a máquina, ela automáticamente\n",
    "    lê os dados e faz associações, agrupamentos, com os dados fornecidos, e te entregará eles, necessitando então\n",
    "    de uma ánalise sobre esses dados\n",
    "\n",
    "\n",
    "Aprendizagem por Reforço\n",
    "\n",
    "    - Baseado em causa e efeito, aprende com sua própria experiencia e testes, mais comum em 'sistemas multi agente'\n",
    "    (SMA)"
   ]
  },
  {
   "cell_type": "markdown",
   "id": "7094fb89",
   "metadata": {},
   "source": [
    "### Classificação"
   ]
  },
  {
   "cell_type": "raw",
   "id": "31555fab",
   "metadata": {},
   "source": [
    "Por exemplo, temos uma base de dados da seguinte forma:\n",
    "\n",
    "\n",
    "histórico do crédito || Dívida || Garantias || Renda Anual             -> Risco\n",
    "==================== ||========||===========||======================== -> ==========\n",
    "Ruim                 || Alta   ||  Nenhuma  ||  <15.000                -> Alto\n",
    "Desconhecido         || Baixa  ||  Nenhuma  ||  >= 15.000 a <=35.000   -> Moderado\n",
    "Bom                  || Alta   ||  Adequada ||  > 35.000               -> Baixo\n",
    "\n",
    "\n",
    "Temos que, com base nos atributos previsores (histórico do crédito, dívida, garantias e renda anual) queremos prever\n",
    "o atributo meta ou atributo classe (risco)\n",
    "\n",
    "O 'atributo meta' é um tipo de aprendizagem supervisionada\n",
    "\n",
    "\n",
    "Representação da classificação (Método indutivo)\n",
    "\n",
    "    Fase 1:\n",
    "\n",
    "        - Conjunto de exemplos (Atributos previsores + Atributos meta)\n",
    "        - Sistema de Aprendizado\n",
    "        - Classificador (Vai ser gerado com esses dois passos acima)\n",
    "\n",
    "\n",
    "    Fase 2:\n",
    "\n",
    "        - Caso a ser classificado (Atributo meta não conhecido)\n",
    "        - Classificador\n",
    "        - Decisão (Vai ser gerado com esses dois passos acima)\n",
    "\n",
    "\n",
    "Ou seja:\n",
    "\n",
    "    - Teremos um banco de dados que nos trará os 'atributos previsores' inicialmente iremos agrupar e determinar\n",
    "    os exemplos onde o supervisor dará um resultado a esses exemplos o 'atributo meta', e com isso geramos um\n",
    "    sistema de aprendizado, que dará o classificador. E com isso, teremos a parte automática da máquina, que com o\n",
    "    classificador conseguirá tomar a decisão sozinha\n",
    "\n"
   ]
  },
  {
   "cell_type": "markdown",
   "id": "3c3c9ae9",
   "metadata": {},
   "source": [
    "### Tipos de variáveis"
   ]
  },
  {
   "cell_type": "raw",
   "id": "14107818",
   "metadata": {},
   "source": [
    "Dividida em 2 grupos: Numéricas e Categóricas\n",
    "\n",
    "Numérica:\n",
    "\n",
    "    Contínua:\n",
    "        - Números reais (Temperatura, peso, altura, salário)\n",
    "\n",
    "    Discreta:\n",
    "        - Conjunto de valores finitos, números inteiros (Contagem de alguma coisa)\n",
    "\n",
    "\n",
    "Categóricas:\n",
    "\n",
    "    Nominal:\n",
    "        - Dados não mensuráveis, sem ordenação (Cor dos olhos, cor da pele, gênero, id, nome)\n",
    "\n",
    "    Ordinal:\n",
    "        - Categorizado sob uma ordenação ( Tamanhos: P, M, G)"
   ]
  }
 ],
 "metadata": {
  "kernelspec": {
   "display_name": "Python 3 (ipykernel)",
   "language": "python",
   "name": "python3"
  },
  "language_info": {
   "codemirror_mode": {
    "name": "ipython",
    "version": 3
   },
   "file_extension": ".py",
   "mimetype": "text/x-python",
   "name": "python",
   "nbconvert_exporter": "python",
   "pygments_lexer": "ipython3",
   "version": "3.9.13"
  },
  "varInspector": {
   "cols": {
    "lenName": 16,
    "lenType": 16,
    "lenVar": 40
   },
   "kernels_config": {
    "python": {
     "delete_cmd_postfix": "",
     "delete_cmd_prefix": "del ",
     "library": "var_list.py",
     "varRefreshCmd": "print(var_dic_list())"
    },
    "r": {
     "delete_cmd_postfix": ") ",
     "delete_cmd_prefix": "rm(",
     "library": "var_list.r",
     "varRefreshCmd": "cat(var_dic_list()) "
    }
   },
   "types_to_exclude": [
    "module",
    "function",
    "builtin_function_or_method",
    "instance",
    "_Feature"
   ],
   "window_display": false
  }
 },
 "nbformat": 4,
 "nbformat_minor": 5
}
