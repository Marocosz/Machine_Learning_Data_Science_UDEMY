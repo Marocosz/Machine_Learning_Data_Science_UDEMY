{
 "cells": [
  {
   "cell_type": "markdown",
   "id": "09fa3790",
   "metadata": {},
   "source": [
    "### Base Risco de Crédito - Naive Bayes"
   ]
  },
  {
   "cell_type": "code",
   "execution_count": 2,
   "id": "7e702e32",
   "metadata": {},
   "outputs": [],
   "source": [
    "import pandas as pd\n",
    "import numpy as np\n",
    "import seaborn as sns\n",
    "import matplotlib.pyplot as plt\n",
    "import plotly.express as px\n",
    "from sklearn.preprocessing import StandardScaler\n",
    "from sklearn.preprocessing import LabelEncoder\n",
    "from sklearn.preprocessing import OneHotEncoder\n",
    "from sklearn.compose import ColumnTransformer\n",
    "from sklearn.preprocessing import StandardScaler\n",
    "from sklearn.model_selection import train_test_split\n",
    "from sklearn.naive_bayes import GaussianNB  # Algoritmo Naive Bayes - menos complexo\n",
    "import pickle"
   ]
  },
  {
   "cell_type": "code",
   "execution_count": null,
   "id": "95e25170",
   "metadata": {},
   "outputs": [],
   "source": [
    "jtplot.style(context='talk', fscal=1.4, spines=False, gridlines='--')"
   ]
  },
  {
   "cell_type": "code",
   "execution_count": null,
   "id": "bd7a4f12",
   "metadata": {},
   "outputs": [],
   "source": [
    "base_risco_credito = pd.read_csv('../Arquivos/risco_credito.csv')\n",
    "display(base_risco_credito)"
   ]
  },
  {
   "cell_type": "markdown",
   "id": "2ca418f3",
   "metadata": {},
   "source": [
    "##### Variáveis de classe e variáveis previsoras"
   ]
  },
  {
   "cell_type": "code",
   "execution_count": null,
   "id": "0c49dbca",
   "metadata": {},
   "outputs": [],
   "source": [
    "x_risco_credito = base_risco_credito.iloc[:, 0:4].values  # Atributos previsores\n",
    "x_risco_credito"
   ]
  },
  {
   "cell_type": "code",
   "execution_count": null,
   "id": "0964eaee",
   "metadata": {},
   "outputs": [],
   "source": [
    "y_risco_credito = base_risco_credito.iloc[:, 4].values  # Atributos de classe\n",
    "y_risco_credito  "
   ]
  },
  {
   "cell_type": "markdown",
   "id": "38acd3f1",
   "metadata": {},
   "source": [
    "##### Conversão de atributos categóricos para númericos"
   ]
  },
  {
   "cell_type": "code",
   "execution_count": null,
   "id": "1514211f",
   "metadata": {},
   "outputs": [],
   "source": [
    "label_encoder_historia = LabelEncoder()\n",
    "label_encoder_divida = LabelEncoder()\n",
    "label_encoder_garantia = LabelEncoder()\n",
    "label_encoder_renda = LabelEncoder()"
   ]
  },
  {
   "cell_type": "code",
   "execution_count": null,
   "id": "7e8d19c6",
   "metadata": {},
   "outputs": [],
   "source": [
    "x_risco_credito[:, 0] = label_encoder_historia.fit_transform(x_risco_credito[: ,0])\n",
    "x_risco_credito[:, 1] = label_encoder_divida.fit_transform(x_risco_credito[: ,1])\n",
    "x_risco_credito[:, 2] = label_encoder_garantia.fit_transform(x_risco_credito[: ,2])\n",
    "x_risco_credito[:, 3] = label_encoder_renda.fit_transform(x_risco_credito[: ,3])\n",
    "\n",
    "x_risco_credito\n",
    "# Por ser pequena, não precisamos usar o OneHotEncoder\n",
    "# Para fins de teste"
   ]
  },
  {
   "cell_type": "code",
   "execution_count": null,
   "id": "1b01e7b3",
   "metadata": {},
   "outputs": [],
   "source": [
    "# Transformando a base de dados ja tratada em arquivo pkl\n",
    "\n",
    "with open('risco_credito.pkl', 'wb') as f:\n",
    "    pickle.dump([x_risco_credito, y_risco_credito], f)"
   ]
  },
  {
   "cell_type": "markdown",
   "id": "f2b45d7f",
   "metadata": {},
   "source": [
    "##### Usando o algoritmo"
   ]
  },
  {
   "cell_type": "code",
   "execution_count": null,
   "id": "f64a9a34",
   "metadata": {},
   "outputs": [],
   "source": [
    "naive_risco_credito = GaussianNB()\n",
    "naive_risco_credito.fit(x_risco_credito, y_risco_credito)  # Encaixando o algoritmo na base de dados - Gerando a tabela de dados aprendida anteriormente (treinando)\n",
    "# parametros: (atributos_previsores, classes)"
   ]
  },
  {
   "cell_type": "markdown",
   "id": "1e574837",
   "metadata": {},
   "source": [
    "##### Previsão"
   ]
  },
  {
   "cell_type": "code",
   "execution_count": null,
   "id": "e741419b",
   "metadata": {},
   "outputs": [],
   "source": [
    "# OBS: A correção laplaciana é feita automaticamente pela biblioteca\n",
    "\n",
    "# Dados dos \"cliente\" que iremos prever:\n",
    "# história boa (0), dívida alta (0), garantias nenhuma (1), renda > 35 (2)\n",
    "# história ruim (2), divida alta (0), garant ias adequada (0), renda < 15 (0)\n",
    "\n",
    "previsao = naive_risco_credito.predict([[0, 0, 1, 2], [2, 0, 0, 0]])"
   ]
  },
  {
   "cell_type": "code",
   "execution_count": null,
   "id": "a8b0194d",
   "metadata": {},
   "outputs": [],
   "source": [
    "display(previsao)  # Resultado de acordo com o atributo classe (baixo, alto, moderado)"
   ]
  },
  {
   "cell_type": "code",
   "execution_count": null,
   "id": "8b256cd8",
   "metadata": {},
   "outputs": [],
   "source": [
    "naive_risco_credito.classes_  # Variáveis do atributo classe"
   ]
  },
  {
   "cell_type": "code",
   "execution_count": null,
   "id": "65ff1058",
   "metadata": {},
   "outputs": [],
   "source": [
    "naive_risco_credito.class_count_  # Quantidade de ocorrencia de cada variável classe"
   ]
  },
  {
   "cell_type": "markdown",
   "id": "2785b501",
   "metadata": {},
   "source": [
    "### Base Credit Data - Naive Bayes"
   ]
  },
  {
   "cell_type": "markdown",
   "id": "09959c9a",
   "metadata": {},
   "source": [
    "##### Importando os dados já tratados do último modulo da base de dados credit"
   ]
  },
  {
   "cell_type": "code",
   "execution_count": null,
   "id": "928df8d0",
   "metadata": {},
   "outputs": [],
   "source": [
    "with open('../01_Pré Processamento dos dados/credit.pkl', 'rb') as f:  # 'rb' para abrir o arquivo, 'wb' para criar\n",
    "    x_credit_treinamento, y_credit_treinamento, x_credit_teste, y_credit_teste = pickle.load(f)"
   ]
  },
  {
   "cell_type": "code",
   "execution_count": null,
   "id": "fd0dec26",
   "metadata": {},
   "outputs": [],
   "source": [
    "x_credit_treinamento.shape, y_credit_treinamento.shape  # Os _treinamentos são os dados que iremos usar para treinar o algoritmo naive bayes\n",
    "# Atributos previsores, atributos classe"
   ]
  },
  {
   "cell_type": "code",
   "execution_count": null,
   "id": "471baed5",
   "metadata": {},
   "outputs": [],
   "source": [
    "x_credit_teste.shape, y_credit_teste.shape  # _teste dados que iremos testar o algoritmo"
   ]
  },
  {
   "cell_type": "markdown",
   "id": "9e28a48b",
   "metadata": {},
   "source": [
    "##### Treinamento com o algoritmo"
   ]
  },
  {
   "cell_type": "code",
   "execution_count": null,
   "id": "55d6508e",
   "metadata": {},
   "outputs": [],
   "source": [
    "naive_credit_data = GaussianNB()\n",
    "naive_credit_data.fit(x_credit_treinamento, y_credit_treinamento)  # Gerando a tabela de probabilidade (treinando)"
   ]
  },
  {
   "cell_type": "code",
   "execution_count": null,
   "id": "e431953d",
   "metadata": {},
   "outputs": [],
   "source": [
    "previsoes = naive_credit_data.predict(x_credit_teste)  # Gerou os resultados classe a partir do treinamento feito acima\n",
    "display(previsoes)\n",
    "\n",
    "# cada 0 e cada 1 são a resposta do algoritmo de acordo com cada dado do dataframe de treinamento"
   ]
  },
  {
   "cell_type": "markdown",
   "id": "13c1d27e",
   "metadata": {},
   "source": [
    "##### Comparando com os dados reais"
   ]
  },
  {
   "cell_type": "code",
   "execution_count": null,
   "id": "279e590d",
   "metadata": {},
   "outputs": [],
   "source": [
    "from sklearn.metrics import accuracy_score  # Função para verificar se X matriz é igual a Y matriz\n",
    "from sklearn.metrics import confusion_matrix  \n",
    "\n",
    "accuracy_score(y_credit_teste, previsoes)  # Vendo se a previsão feita pelo algoritmo bate com os reais resultados  ->  93% de acerto\n",
    "confusion_matrix(y_credit_teste, previsoes)  # Demonstrar em números os clientes que pagariam o emprestimo e se está certo (erros)"
   ]
  },
  {
   "cell_type": "code",
   "execution_count": null,
   "id": "cbbfe246",
   "metadata": {},
   "outputs": [],
   "source": [
    "# pip install yellowbrick\n",
    "from yellowbrick.classifier import ConfusionMatrix  "
   ]
  },
  {
   "cell_type": "code",
   "execution_count": null,
   "id": "4ec2a5b8",
   "metadata": {},
   "outputs": [],
   "source": [
    "# Treinando e interpretando os erros e acertos do algoritmo\n",
    "\n",
    "cm = ConfusionMatrix(naive_credit_data)\n",
    "cm.fit(x_credit_treinamento, y_credit_treinamento)\n",
    "cm.score(x_credit_teste, y_credit_teste)\n",
    "\n",
    "# Analisar as intersecções: sendo 0: clientes  pagam, e 1: clientes que não pagam\n",
    "# temos: 428 acertos desses clientes que pagam pelo algoritmo, 8 clientes que pagam errado pelo algoritmo (falou que 8 pagam, mas não pagam)\n",
    "# 41 que não pagam acertado pelo algoritmo e 23 que não pagam errado pelo algoritmo (falou que 23 não pagam, mas pagam)"
   ]
  },
  {
   "cell_type": "code",
   "execution_count": null,
   "id": "0f7603da",
   "metadata": {},
   "outputs": [],
   "source": [
    "from sklearn.metrics import classification_report  # Algumas métricas a mais\n",
    "\n",
    "print(classification_report(y_credit_teste, previsoes))"
   ]
  },
  {
   "cell_type": "markdown",
   "id": "d352d2c9",
   "metadata": {},
   "source": [
    "### Census - Naive Baye"
   ]
  },
  {
   "cell_type": "code",
   "execution_count": null,
   "id": "f4d0e2f4",
   "metadata": {},
   "outputs": [],
   "source": [
    "# importando já tratado:\n",
    "\n",
    "with open('../01_Pré Processamento dos dados/census.pkl', 'rb') as f:\n",
    "    x_census_treinamento, y_census_treinamento, x_census_teste, y_census_teste = pickle.load(f)"
   ]
  },
  {
   "cell_type": "code",
   "execution_count": null,
   "id": "af50fccb",
   "metadata": {},
   "outputs": [],
   "source": [
    "x_census_treinamento.shape, y_census_treinamento.shape\n",
    "# x -> previsores  y -> atributos classe"
   ]
  },
  {
   "cell_type": "code",
   "execution_count": null,
   "id": "610a70c1",
   "metadata": {},
   "outputs": [],
   "source": [
    "x_census_teste.shape, y_census_teste.shape"
   ]
  },
  {
   "cell_type": "code",
   "execution_count": null,
   "id": "de37f644",
   "metadata": {},
   "outputs": [],
   "source": [
    "naive_census = GaussianNB()\n",
    "naive_census.fit(x_census_treinamento, y_census_treinamento)"
   ]
  },
  {
   "cell_type": "code",
   "execution_count": null,
   "id": "a4071a65",
   "metadata": {},
   "outputs": [],
   "source": [
    "previsoes = naive_census.predict(x_census_teste)\n",
    "previsoes"
   ]
  },
  {
   "cell_type": "markdown",
   "id": "46958f83",
   "metadata": {},
   "source": [
    "##### Comparando o teste do algoritmo com o resultado do algoritmo:"
   ]
  },
  {
   "cell_type": "code",
   "execution_count": null,
   "id": "0815a975",
   "metadata": {},
   "outputs": [],
   "source": [
    "accuracy_score(y_census_teste, previsoes)  # 47%"
   ]
  },
  {
   "cell_type": "code",
   "execution_count": null,
   "id": "3e7abe8d",
   "metadata": {},
   "outputs": [],
   "source": [
    "# Fazendo o accurate\n",
    "\n",
    "cm = ConfusionMatrix(naive_census)\n",
    "cm.fit(x_census_treinamento, y_census_treinamento)\n",
    "cm.score(x_census_teste, y_census_teste)\n",
    "\n",
    "# Vemos aqui que:\n",
    "# De acordo com o algoritmo 2521 clientes (dados) ganham <= 50k, mas não ganham\n",
    "# E que 35 clientes ganham <= 50k, mas não ganham"
   ]
  },
  {
   "cell_type": "code",
   "execution_count": null,
   "id": "adbab866",
   "metadata": {},
   "outputs": [],
   "source": [
    "print(classification_report(y_census_teste, previsoes))\n",
    "\n",
    "# O algorimo a chou 97% das pessoas que ganham mais de 50k\n",
    "# Mas achou apenas 32% das pessoas que ganham menos de 50k"
   ]
  },
  {
   "cell_type": "code",
   "execution_count": null,
   "id": "b3dc96d1",
   "metadata": {},
   "outputs": [],
   "source": []
  },
  {
   "cell_type": "code",
   "execution_count": null,
   "id": "19bf4fad",
   "metadata": {},
   "outputs": [],
   "source": []
  },
  {
   "cell_type": "code",
   "execution_count": null,
   "id": "c2a901f9",
   "metadata": {},
   "outputs": [],
   "source": []
  }
 ],
 "metadata": {
  "hide_input": false,
  "kernelspec": {
   "display_name": "Python 3 (ipykernel)",
   "language": "python",
   "name": "python3"
  },
  "language_info": {
   "codemirror_mode": {
    "name": "ipython",
    "version": 3
   },
   "file_extension": ".py",
   "mimetype": "text/x-python",
   "name": "python",
   "nbconvert_exporter": "python",
   "pygments_lexer": "ipython3",
   "version": "3.11.4"
  },
  "varInspector": {
   "cols": {
    "lenName": 16,
    "lenType": 16,
    "lenVar": 40
   },
   "kernels_config": {
    "python": {
     "delete_cmd_postfix": "",
     "delete_cmd_prefix": "del ",
     "library": "var_list.py",
     "varRefreshCmd": "print(var_dic_list())"
    },
    "r": {
     "delete_cmd_postfix": ") ",
     "delete_cmd_prefix": "rm(",
     "library": "var_list.r",
     "varRefreshCmd": "cat(var_dic_list()) "
    }
   },
   "types_to_exclude": [
    "module",
    "function",
    "builtin_function_or_method",
    "instance",
    "_Feature"
   ],
   "window_display": false
  }
 },
 "nbformat": 4,
 "nbformat_minor": 5
}
